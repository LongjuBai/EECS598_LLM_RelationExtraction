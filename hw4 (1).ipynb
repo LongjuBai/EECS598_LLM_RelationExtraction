{
  "nbformat": 4,
  "nbformat_minor": 0,
  "metadata": {
    "colab": {
      "provenance": []
    },
    "kernelspec": {
      "name": "python3",
      "display_name": "Python 3"
    },
    "language_info": {
      "name": "python"
    }
  },
  "cells": [
    {
      "cell_type": "code",
      "execution_count": 1,
      "metadata": {
        "id": "_L1MeOM9dX3Y"
      },
      "outputs": [],
      "source": [
        "import torch\n",
        "import torch.nn.functional as F\n",
        "import random\n",
        "import numpy as np\n",
        "import torch.nn as nn\n",
        "from torch.nn import functional as F\n",
        "from torch.utils.data import DataLoader, TensorDataset, Dataset\n",
        "import os\n",
        "from tqdm import tqdm"
      ]
    },
    {
      "cell_type": "code",
      "source": [
        "torch.__version__"
      ],
      "metadata": {
        "colab": {
          "base_uri": "https://localhost:8080/",
          "height": 35
        },
        "id": "FHJf68xT3kzX",
        "outputId": "5bec6bf4-e5ee-438d-865a-a36648564e04"
      },
      "execution_count": 25,
      "outputs": [
        {
          "output_type": "execute_result",
          "data": {
            "text/plain": [
              "'2.2.1+cu121'"
            ],
            "application/vnd.google.colaboratory.intrinsic+json": {
              "type": "string"
            }
          },
          "metadata": {},
          "execution_count": 25
        }
      ]
    },
    {
      "cell_type": "code",
      "source": [
        "%pip install rotary-embedding-torch"
      ],
      "metadata": {
        "colab": {
          "base_uri": "https://localhost:8080/"
        },
        "id": "88C3iV08diU7",
        "outputId": "94cbe8a8-2ec2-4a04-bd72-46045e4de6a7"
      },
      "execution_count": 2,
      "outputs": [
        {
          "output_type": "stream",
          "name": "stdout",
          "text": [
            "Collecting rotary-embedding-torch\n",
            "  Downloading rotary_embedding_torch-0.5.3-py3-none-any.whl (5.3 kB)\n",
            "Collecting beartype (from rotary-embedding-torch)\n",
            "  Downloading beartype-0.18.2-py3-none-any.whl (903 kB)\n",
            "\u001b[2K     \u001b[90m━━━━━━━━━━━━━━━━━━━━━━━━━━━━━━━━━━━━━━━━\u001b[0m \u001b[32m903.7/903.7 kB\u001b[0m \u001b[31m13.1 MB/s\u001b[0m eta \u001b[36m0:00:00\u001b[0m\n",
            "\u001b[?25hCollecting einops>=0.7 (from rotary-embedding-torch)\n",
            "  Downloading einops-0.7.0-py3-none-any.whl (44 kB)\n",
            "\u001b[2K     \u001b[90m━━━━━━━━━━━━━━━━━━━━━━━━━━━━━━━━━━━━━━━━\u001b[0m \u001b[32m44.6/44.6 kB\u001b[0m \u001b[31m6.6 MB/s\u001b[0m eta \u001b[36m0:00:00\u001b[0m\n",
            "\u001b[?25hRequirement already satisfied: torch>=2.0 in /usr/local/lib/python3.10/dist-packages (from rotary-embedding-torch) (2.2.1+cu121)\n",
            "Requirement already satisfied: filelock in /usr/local/lib/python3.10/dist-packages (from torch>=2.0->rotary-embedding-torch) (3.13.4)\n",
            "Requirement already satisfied: typing-extensions>=4.8.0 in /usr/local/lib/python3.10/dist-packages (from torch>=2.0->rotary-embedding-torch) (4.11.0)\n",
            "Requirement already satisfied: sympy in /usr/local/lib/python3.10/dist-packages (from torch>=2.0->rotary-embedding-torch) (1.12)\n",
            "Requirement already satisfied: networkx in /usr/local/lib/python3.10/dist-packages (from torch>=2.0->rotary-embedding-torch) (3.3)\n",
            "Requirement already satisfied: jinja2 in /usr/local/lib/python3.10/dist-packages (from torch>=2.0->rotary-embedding-torch) (3.1.3)\n",
            "Requirement already satisfied: fsspec in /usr/local/lib/python3.10/dist-packages (from torch>=2.0->rotary-embedding-torch) (2023.6.0)\n",
            "Collecting nvidia-cuda-nvrtc-cu12==12.1.105 (from torch>=2.0->rotary-embedding-torch)\n",
            "  Using cached nvidia_cuda_nvrtc_cu12-12.1.105-py3-none-manylinux1_x86_64.whl (23.7 MB)\n",
            "Collecting nvidia-cuda-runtime-cu12==12.1.105 (from torch>=2.0->rotary-embedding-torch)\n",
            "  Using cached nvidia_cuda_runtime_cu12-12.1.105-py3-none-manylinux1_x86_64.whl (823 kB)\n",
            "Collecting nvidia-cuda-cupti-cu12==12.1.105 (from torch>=2.0->rotary-embedding-torch)\n",
            "  Using cached nvidia_cuda_cupti_cu12-12.1.105-py3-none-manylinux1_x86_64.whl (14.1 MB)\n",
            "Collecting nvidia-cudnn-cu12==8.9.2.26 (from torch>=2.0->rotary-embedding-torch)\n",
            "  Using cached nvidia_cudnn_cu12-8.9.2.26-py3-none-manylinux1_x86_64.whl (731.7 MB)\n",
            "Collecting nvidia-cublas-cu12==12.1.3.1 (from torch>=2.0->rotary-embedding-torch)\n",
            "  Using cached nvidia_cublas_cu12-12.1.3.1-py3-none-manylinux1_x86_64.whl (410.6 MB)\n",
            "Collecting nvidia-cufft-cu12==11.0.2.54 (from torch>=2.0->rotary-embedding-torch)\n",
            "  Using cached nvidia_cufft_cu12-11.0.2.54-py3-none-manylinux1_x86_64.whl (121.6 MB)\n",
            "Collecting nvidia-curand-cu12==10.3.2.106 (from torch>=2.0->rotary-embedding-torch)\n",
            "  Using cached nvidia_curand_cu12-10.3.2.106-py3-none-manylinux1_x86_64.whl (56.5 MB)\n",
            "Collecting nvidia-cusolver-cu12==11.4.5.107 (from torch>=2.0->rotary-embedding-torch)\n",
            "  Using cached nvidia_cusolver_cu12-11.4.5.107-py3-none-manylinux1_x86_64.whl (124.2 MB)\n",
            "Collecting nvidia-cusparse-cu12==12.1.0.106 (from torch>=2.0->rotary-embedding-torch)\n",
            "  Using cached nvidia_cusparse_cu12-12.1.0.106-py3-none-manylinux1_x86_64.whl (196.0 MB)\n",
            "Collecting nvidia-nccl-cu12==2.19.3 (from torch>=2.0->rotary-embedding-torch)\n",
            "  Using cached nvidia_nccl_cu12-2.19.3-py3-none-manylinux1_x86_64.whl (166.0 MB)\n",
            "Collecting nvidia-nvtx-cu12==12.1.105 (from torch>=2.0->rotary-embedding-torch)\n",
            "  Using cached nvidia_nvtx_cu12-12.1.105-py3-none-manylinux1_x86_64.whl (99 kB)\n",
            "Requirement already satisfied: triton==2.2.0 in /usr/local/lib/python3.10/dist-packages (from torch>=2.0->rotary-embedding-torch) (2.2.0)\n",
            "Collecting nvidia-nvjitlink-cu12 (from nvidia-cusolver-cu12==11.4.5.107->torch>=2.0->rotary-embedding-torch)\n",
            "  Using cached nvidia_nvjitlink_cu12-12.4.127-py3-none-manylinux2014_x86_64.whl (21.1 MB)\n",
            "Requirement already satisfied: MarkupSafe>=2.0 in /usr/local/lib/python3.10/dist-packages (from jinja2->torch>=2.0->rotary-embedding-torch) (2.1.5)\n",
            "Requirement already satisfied: mpmath>=0.19 in /usr/local/lib/python3.10/dist-packages (from sympy->torch>=2.0->rotary-embedding-torch) (1.3.0)\n",
            "Installing collected packages: nvidia-nvtx-cu12, nvidia-nvjitlink-cu12, nvidia-nccl-cu12, nvidia-curand-cu12, nvidia-cufft-cu12, nvidia-cuda-runtime-cu12, nvidia-cuda-nvrtc-cu12, nvidia-cuda-cupti-cu12, nvidia-cublas-cu12, einops, beartype, nvidia-cusparse-cu12, nvidia-cudnn-cu12, nvidia-cusolver-cu12, rotary-embedding-torch\n",
            "Successfully installed beartype-0.18.2 einops-0.7.0 nvidia-cublas-cu12-12.1.3.1 nvidia-cuda-cupti-cu12-12.1.105 nvidia-cuda-nvrtc-cu12-12.1.105 nvidia-cuda-runtime-cu12-12.1.105 nvidia-cudnn-cu12-8.9.2.26 nvidia-cufft-cu12-11.0.2.54 nvidia-curand-cu12-10.3.2.106 nvidia-cusolver-cu12-11.4.5.107 nvidia-cusparse-cu12-12.1.0.106 nvidia-nccl-cu12-2.19.3 nvidia-nvjitlink-cu12-12.4.127 nvidia-nvtx-cu12-12.1.105 rotary-embedding-torch-0.5.3\n"
          ]
        }
      ]
    },
    {
      "cell_type": "code",
      "source": [
        "from rotary_embedding_torch import RotaryEmbedding\n",
        "from mamba import MambaConfig, MambaBlock"
      ],
      "metadata": {
        "id": "omFZdeBldhc7"
      },
      "execution_count": 4,
      "outputs": []
    },
    {
      "cell_type": "code",
      "source": [
        "class InductionAR(Dataset):\n",
        "    # In induction head we have ngram = 1. But the code provided is for general ngram setting. While using this, initialize ngram = 1.\n",
        "    \"\"\" Naive associative recall dataset \"\"\"\n",
        "    # num_examples is dataset size\n",
        "    # n_gram is length of the query, M\n",
        "    # n_ctx is length of the seq, L\n",
        "    # daley is distance between query and target value, tau\n",
        "    def __init__(self, num_examples, tokenizer, n_gram=1, n_ctx = 1024, seed = 0, train_split=0.8, delay = 1):\n",
        "        self.num_examples = num_examples\n",
        "        self.tokenizer = tokenizer\n",
        "        self.n_ctx = n_ctx\n",
        "        self.seed = seed\n",
        "        self.n_gram = n_gram\n",
        "        self.delay = delay\n",
        "        x, y = self.data_gen()\n",
        "        if train_split:\n",
        "            self.train_x, self.train_y, self.test_x, self.test_y = self.split(x, y, train_split)\n",
        "            self.train = self.numpy_to_tensor_dataset(self.train_x, self.train_y)\n",
        "            self.test = self.numpy_to_tensor_dataset(self.test_x, self.test_y)\n",
        "        else:\n",
        "            self.train_x, self.train_y, self.test_x, self.test_y = x, y, None, None\n",
        "            self.train = self.numpy_to_tensor_dataset(self.train_x, self.train_y)\n",
        "            self.test = None\n",
        "    '''\n",
        "    Gives the dataset from list of numbers into string\n",
        "    '''\n",
        "    def get_str_dataset(self, split=\"train\"):\n",
        "        if split == \"train\":\n",
        "            x_str = [self.tokenizer.decode(xi) for xi in self.train_x]\n",
        "            y_str = [self.tokenizer.decode([yi]) for yi in self.train_y]\n",
        "        elif split == \"test\":\n",
        "            x_str = [self.tokenizer.decode(xi) for xi in self.test_x]\n",
        "            y_str = [self.tokenizer.decode([yi]) for yi in self.test_y]\n",
        "        else:\n",
        "            raise ValueError(\"split should be either 'train' or 'test'\")\n",
        "        return x_str, y_str\n",
        "    def numpy_to_tensor_dataset(self, x, y):\n",
        "        x = torch.tensor(x, dtype=torch.long)\n",
        "        y = torch.tensor(y, dtype=torch.long)\n",
        "        return TensorDataset(x, y)\n",
        "    def gen_single_example(self):\n",
        "        # get the vocab size\n",
        "        def count(str_x, str_n_gram_head):\n",
        "            counts = sum([\n",
        "                str_x.startswith(str_n_gram_head, i) for i in range(len(str_x))\n",
        "            ])\n",
        "            return counts\n",
        "        def gen_x():\n",
        "            gen_x_success = False\n",
        "            while not gen_x_success:\n",
        "                x = np.random.choice(vocab, self.n_ctx-self.n_gram*2, replace=True).tolist()\n",
        "                # remove the case where the n_gram_head is repeated in the sequence\n",
        "                for _ in range(10):\n",
        "                    pos = [i for i in range(len(x)-len(n_gram_head)+1) if x[i:i+len(n_gram_head)] == n_gram_head]\n",
        "                    if len(pos) == 0:\n",
        "                        gen_x_success = True\n",
        "                        break\n",
        "                    else:\n",
        "                        # remove the n_gram_head from x\n",
        "                        # get all positions of the n_gram_head in x\n",
        "                        for p in reversed(pos):\n",
        "                            # remove len(n_gram_head) elements from x starting from p\n",
        "                            x = x[:p] + x[p+len(n_gram_head):]\n",
        "                        # fill the rest of the sequence with random elements\n",
        "                        x.extend(np.random.choice(vocab, self.n_ctx-self.n_gram*2-len(x), replace=True).tolist())\n",
        "                x_test = \" \".join([str(xi) for xi in x])\n",
        "                if count(x_test, str_n_gram_head) == 0:\n",
        "                    gen_x_success = True\n",
        "\n",
        "            x_test = x + n_gram_head\n",
        "            # check if there's only one n_gram_head in the sequence\n",
        "            # to avoid the case where the n_gram_head has\n",
        "            # repeated structure such as x= [1, 2, 3, 1] , n_gram_head = [1, 1]\n",
        "            str_x_test = \" \"+\" \".join([str(xi) for xi in x_test])+ \" \"\n",
        "            if count(str_x_test, str_n_gram_head) > 1:\n",
        "                print(\"Error in gen_x\")\n",
        "                print(f\"str_x_test: {str_x_test}\", f\"str_n_gram_head: {str_n_gram_head}\",\n",
        "                      \"count: \", count(str_x_test, str_n_gram_head))\n",
        "            if count(str_x_test, str_n_gram_head) == 1:\n",
        "                return x\n",
        "            else:\n",
        "                return None\n",
        "        def insert_n_gram_head(x):\n",
        "            pos = random.randint(0, len(x)-self.delay)\n",
        "            y = x[pos + self.delay - 1]\n",
        "            x_new = x[:pos] + n_gram_head + x[pos:] + n_gram_head\n",
        "            str_x_new = \" \"+\" \".join([str(xi) for xi in x_new])+\" \"\n",
        "\n",
        "            if count(str_x_new, str_n_gram_head) == 2:\n",
        "                return x_new, y\n",
        "            else:\n",
        "                return None, None\n",
        "        vocab_size = len(self.tokenizer)\n",
        "        vocab = list(range(vocab_size)) # vocab is like [0, 1, .., K-1]\n",
        "        # set a deterministic n_gram_head\n",
        "        n_gram_head = list(range(self.n_gram)) # n_gram_head is M, length of the query, [0, 1, 2, .., M-1]\n",
        "\n",
        "        str_n_gram_head = \" \"+\" \".join([str(xi) for xi in n_gram_head])+\" \"\n",
        "        assert self.n_gram*2 < self.n_ctx, \"n_gram*2 should be less than n_ctx\"\n",
        "        success = False\n",
        "        while not success:\n",
        "            x = gen_x()\n",
        "            if x is not None:\n",
        "                for _ in range(10):\n",
        "                    x_new, y = insert_n_gram_head(x)\n",
        "                    if x_new is not None:\n",
        "                        success = True\n",
        "                        break\n",
        "        return x_new, y\n",
        "\n",
        "    def data_gen(self):\n",
        "        x = []\n",
        "        y = []\n",
        "        # get previous random status and recover after generating the dataset\n",
        "        random_status = random.getstate()\n",
        "        random.seed(self.seed)\n",
        "        for i in range(self.num_examples):\n",
        "            if i % 10000 == 0:\n",
        "                print(f\"Generating example {i}\")\n",
        "            xi, yi = self.gen_single_example()\n",
        "            x.append(xi)\n",
        "            y.append(yi)\n",
        "        x = np.array(x)\n",
        "        y = np.array(y)\n",
        "        random.setstate(random_status)\n",
        "        return x, y\n",
        "    def split(self, x, y, train_ratio = 0.8):\n",
        "        num_train = int(len(x)*train_ratio)\n",
        "        train_x = x[:num_train]\n",
        "        train_y = y[:num_train]\n",
        "        test_x = x[num_train:]\n",
        "        test_y = y[num_train:]\n",
        "        return train_x, train_y, test_x, test_y\n"
      ],
      "metadata": {
        "id": "SJBCn_AXdjhd"
      },
      "execution_count": 5,
      "outputs": []
    },
    {
      "cell_type": "code",
      "source": [
        "class Random_tokenizer:\n",
        "    def __init__(self, vocab=None, vocab_size = None) -> None:\n",
        "        \"\"\" The init function of the tokenizer class.\n",
        "         one of vocab or vocab_size should be provided.\n",
        "         If vocab is provided, vocab_size will be ignored.\n",
        "         If vocab is not provided, vocab_size should be provided. we will generate a random vocab of vocab_size.\"\"\"\n",
        "        if vocab is not None:\n",
        "            self.vocab = vocab\n",
        "            self.vocab_size = len(vocab)\n",
        "        elif vocab_size is not None:\n",
        "            self.vocab_size = vocab_size\n",
        "            self.vocab = [str(i) for i in range(vocab_size)]\n",
        "        else:\n",
        "            raise ValueError(\"one of vocab or vocab_size should be provided.\")\n",
        "        self.vocab_dict = {v: i for i, v in enumerate(self.vocab)}\n",
        "        self.vocab_dict_inv = {i: v for i, v in enumerate(self.vocab)}\n",
        "    def encode(self, x):\n",
        "        \"\"\" Encode a string into a list of integers \"\"\"\n",
        "        return [self.vocab_dict[i] for i in x]\n",
        "    def decode(self, x):\n",
        "        \"\"\" Decode a list of integers into a string \"\"\"\n",
        "        return ' '.join([self.vocab_dict_inv[i] for i in x])\n",
        "    def __len__(self):\n",
        "        return self.vocab_size\n",
        "    def __getitem__(self, i):\n",
        "        return self.vocab[i]\n",
        "    def __iter__(self):\n",
        "        return iter(self.vocab)\n",
        "    def __contains__(self, x):\n",
        "        return x in self.vocab\n",
        "    def __repr__(self):\n",
        "        return f\"Random_tokenizer(vocab_size={self.vocab_size})\"\n",
        "    def __str__(self):\n",
        "        return f\"Random_tokenizer(vocab_size={self.vocab_size})\"\n",
        "    def __call__(self, x):\n",
        "        return self.encode(x)\n"
      ],
      "metadata": {
        "id": "c6tOIvBydkYU"
      },
      "execution_count": 6,
      "outputs": []
    },
    {
      "cell_type": "code",
      "source": [
        "class LayerNorm(nn.Module):\n",
        "    \"\"\" LayerNorm but with an optional bias. PyTorch doesn't support simply bias=False \"\"\"\n",
        "\n",
        "    def __init__(self, ndim, bias):\n",
        "        super().__init__()\n",
        "        self.weight = nn.Parameter(torch.ones(ndim))\n",
        "        self.bias = nn.Parameter(torch.zeros(ndim)) if bias else None\n",
        "\n",
        "    def forward(self, input):\n",
        "        return F.layer_norm(input, self.weight.shape, self.weight, self.bias, 1e-5)\n",
        "\n",
        "class BaseNet(nn.Module):\n",
        "    def __init__(self, vocab_size, embed_dim,\n",
        "                 positional_encoding:nn.Embedding=None, max_len=11,\n",
        "                 block_list:list=None,\n",
        "                 ):\n",
        "        super(BaseNet, self).__init__()\n",
        "        if block_list is None:\n",
        "            raise ValueError(\"block list should be provided.\")\n",
        "        self.vocab_size = vocab_size\n",
        "        self.max_len = max_len\n",
        "        # self.is_pe = is_pe\n",
        "        self.embed = nn.Embedding(vocab_size, embed_dim) # A simple lookup table that stores embeddings of a fixed dictionary and size.\n",
        "        self.pe = positional_encoding if positional_encoding else None # specify positional encoding here\n",
        "        self.att = nn.ModuleList([block for block in block_list])\n",
        "        self.ln = nn.ModuleList([LayerNorm(embed_dim, True) for _ in range(len(block_list))])\n",
        "        self.head = nn.Linear(embed_dim, vocab_size)\n",
        "\n",
        "        print(f\"BaseNet with {len(block_list)} layers, with {block_list}\")\n",
        "        print(f\"Embedding dimension: {embed_dim}\")\n",
        "        print(f\"Positional Encoding: {positional_encoding}\")\n",
        "        print(f\"Vocabulary size: {vocab_size}\")\n",
        "        print(f\"Context length: {max_len}\")\n",
        "\n",
        "    def forward(self, x):\n",
        "        b, t = x.size()\n",
        "        x = self.embed(x)\n",
        "        if self.pe:\n",
        "            pos = torch.arange(0, t, dtype=torch.long, device=x.device)\n",
        "            pe_emb = self.pe(pos)\n",
        "            x = x + pe_emb\n",
        "        for layer, ln in zip(self.att, self.ln):\n",
        "            x = ln(layer(x))\n",
        "        x = self.head(x)\n",
        "        return x"
      ],
      "metadata": {
        "id": "0zyx1gEbd-M7"
      },
      "execution_count": 7,
      "outputs": []
    },
    {
      "cell_type": "code",
      "source": [
        "# self attention block\n",
        "class Block(nn.Module):\n",
        "    def __init__(self, embed_dim, max_len=11):\n",
        "        super(Block, self).__init__()\n",
        "        self.embed_dim = embed_dim\n",
        "        self.max_len = max_len\n",
        "        self.c_attn = nn.Linear(embed_dim, embed_dim*3)\n",
        "        self.register_buffer('mask', torch.tril(torch.ones(max_len, max_len)))\n",
        "    def forward(self, x):\n",
        "        T = x.size(1)\n",
        "        q, k, v = self.c_attn(x).chunk(3, dim=-1) # .c_attn uses nn.Linear to linearly transform x.; .chunk split the last dimension of tensor into 3\n",
        "        y = torch.nn.functional.scaled_dot_product_attention(q, k, v, is_causal=True)\n",
        "        return y"
      ],
      "metadata": {
        "id": "AMpwNmd4eAVz"
      },
      "execution_count": 8,
      "outputs": []
    },
    {
      "cell_type": "code",
      "source": [
        "# model specification\n",
        "device = torch.device('cuda' if torch.cuda.is_available() else 'cpu')\n",
        "print(f\"Using {device} device\")\n",
        "seed = 0\n",
        "n_ctx = 64 # training sequence length, L\n",
        "num_examples = 100000 # generate 100000 examples\n",
        "batch_size = 64 # batch size, B\n",
        "vocab_size = 16 # vocabulary size, K\n",
        "num_epochs = 250 # number of epochs\n",
        "# attn_layers = 2 # number of attention layers\n",
        "embed_dim = 8 # embedding dimension, d\n",
        "max_len = 4*n_ctx\n",
        "delay = 5 # delay, tau\n",
        "# is_pe = True  # the default positional embedding we are using is the learned positional embedding\n",
        "stop_minimal_epoch = 30\n",
        "stop_improvement_gap = 0.001\n",
        "stop_consecutive_steps = 5"
      ],
      "metadata": {
        "colab": {
          "base_uri": "https://localhost:8080/"
        },
        "id": "kn1DFLyaeCfb",
        "outputId": "ff501d74-3741-4155-d25c-6ccd8e2baee8"
      },
      "execution_count": 9,
      "outputs": [
        {
          "output_type": "stream",
          "name": "stdout",
          "text": [
            "Using cuda device\n"
          ]
        }
      ]
    },
    {
      "cell_type": "code",
      "source": [
        "tokenizer = Random_tokenizer(vocab_size=vocab_size)\n",
        "dataset = InductionAR(num_examples, tokenizer, 1, n_ctx=n_ctx, seed=seed, train_split=0.8, delay=delay)\n",
        "\n",
        "train_loader = DataLoader(dataset.train, batch_size=batch_size, shuffle=True)\n",
        "test_loader = DataLoader(dataset.test, batch_size=batch_size, shuffle=True)"
      ],
      "metadata": {
        "colab": {
          "base_uri": "https://localhost:8080/"
        },
        "id": "c2yaOaK81Fg6",
        "outputId": "24687b6c-0468-4829-97da-afdac31f7cbc"
      },
      "execution_count": 10,
      "outputs": [
        {
          "output_type": "stream",
          "name": "stdout",
          "text": [
            "Generating example 0\n",
            "Generating example 10000\n",
            "Generating example 20000\n",
            "Generating example 30000\n",
            "Generating example 40000\n",
            "Generating example 50000\n",
            "Generating example 60000\n",
            "Generating example 70000\n",
            "Generating example 80000\n",
            "Generating example 90000\n"
          ]
        }
      ]
    },
    {
      "cell_type": "code",
      "source": [
        "# Transformer, default positional encoding\n",
        "attn_model = BaseNet(len(tokenizer),\n",
        "                     embed_dim,\n",
        "                     positional_encoding=nn.Embedding(max_len, embed_dim),\n",
        "                     max_len=max_len,\n",
        "                     block_list=[Block(embed_dim, max_len), Block(embed_dim, max_len)]).to(device)\n",
        "# Transformer, Ro positional encoding\n",
        "attn_model_ro_pe = BaseNet(len(tokenizer),\n",
        "                           embed_dim,\n",
        "                           positional_encoding=RotaryEmbedding(dim=embed_dim),\n",
        "                           max_len=max_len,\n",
        "                           block_list=[Block(embed_dim, max_len), Block(embed_dim, max_len)]).to(device)\n",
        "# Transformer, no positional encoding\n",
        "attn_model_no_pe = BaseNet(len(tokenizer),\n",
        "                           embed_dim,\n",
        "                           positional_encoding=None,\n",
        "                           max_len=max_len,\n",
        "                           block_list=[Block(embed_dim, max_len), Block(embed_dim, max_len)]).to(device)\n",
        "# Mamba, 2 layers\n",
        "mamba_model_args = MambaConfig(d_model=embed_dim)\n",
        "mamba_model = BaseNet(len(tokenizer),\n",
        "                      embed_dim,\n",
        "                      positional_encoding=None,\n",
        "                      max_len=max_len,\n",
        "                      block_list=[MambaBlock(mamba_model_args), MambaBlock(mamba_model_args)]).to(device)\n",
        "# Hybrid A: Mamba followed by an attention layer, no positional encoding\n",
        "hybridA_model = BaseNet(len(tokenizer),\n",
        "                      embed_dim,\n",
        "                      positional_encoding=None,\n",
        "                      max_len=max_len,\n",
        "                      block_list=[MambaBlock(mamba_model_args), Block(embed_dim, max_len)]).to(device)\n",
        "# Hybrid B: Mamba, attention, Mamba, no positinal encoding\n",
        "hybridB_model = BaseNet(len(tokenizer),\n",
        "                      embed_dim,\n",
        "                      positional_encoding=None,\n",
        "                      max_len=max_len,\n",
        "                      block_list=[MambaBlock(mamba_model_args), Block(embed_dim, max_len), MambaBlock(mamba_model_args)]).to(device)\n",
        "\n",
        "models_dict = {\n",
        "    'attention_model': attn_model,\n",
        "    'attn_model_no_pe': attn_model_no_pe,\n",
        "    'attn_model_ro_pe': attn_model_ro_pe,\n",
        "    'mamba_model': mamba_model,\n",
        "    'hybridA': hybridA_model,\n",
        "    'hybridB': hybridB_model\n",
        "    } # add more models here when you have more models"
      ],
      "metadata": {
        "colab": {
          "base_uri": "https://localhost:8080/"
        },
        "id": "gWb-QOr2eFl4",
        "outputId": "053b8bc8-79a7-4383-a082-cd2344e009ee"
      },
      "execution_count": 26,
      "outputs": [
        {
          "output_type": "stream",
          "name": "stdout",
          "text": [
            "BaseNet with 2 layers, with [Block(\n",
            "  (c_attn): Linear(in_features=8, out_features=24, bias=True)\n",
            "), Block(\n",
            "  (c_attn): Linear(in_features=8, out_features=24, bias=True)\n",
            ")]\n",
            "Embedding dimension: 8\n",
            "Positional Encoding: Embedding(256, 8)\n",
            "Vocabulary size: 16\n",
            "Context length: 256\n",
            "BaseNet with 2 layers, with [Block(\n",
            "  (c_attn): Linear(in_features=8, out_features=24, bias=True)\n",
            "), Block(\n",
            "  (c_attn): Linear(in_features=8, out_features=24, bias=True)\n",
            ")]\n",
            "Embedding dimension: 8\n",
            "Positional Encoding: RotaryEmbedding()\n",
            "Vocabulary size: 16\n",
            "Context length: 256\n",
            "BaseNet with 2 layers, with [Block(\n",
            "  (c_attn): Linear(in_features=8, out_features=24, bias=True)\n",
            "), Block(\n",
            "  (c_attn): Linear(in_features=8, out_features=24, bias=True)\n",
            ")]\n",
            "Embedding dimension: 8\n",
            "Positional Encoding: None\n",
            "Vocabulary size: 16\n",
            "Context length: 256\n",
            "BaseNet with 2 layers, with [MambaBlock(\n",
            "  (in_proj): Linear(in_features=8, out_features=32, bias=False)\n",
            "  (conv1d): Conv1d(16, 16, kernel_size=(4,), stride=(1,), padding=(3,), groups=16)\n",
            "  (x_proj): Linear(in_features=16, out_features=33, bias=False)\n",
            "  (dt_proj): Linear(in_features=1, out_features=16, bias=True)\n",
            "  (out_proj): Linear(in_features=16, out_features=8, bias=False)\n",
            "), MambaBlock(\n",
            "  (in_proj): Linear(in_features=8, out_features=32, bias=False)\n",
            "  (conv1d): Conv1d(16, 16, kernel_size=(4,), stride=(1,), padding=(3,), groups=16)\n",
            "  (x_proj): Linear(in_features=16, out_features=33, bias=False)\n",
            "  (dt_proj): Linear(in_features=1, out_features=16, bias=True)\n",
            "  (out_proj): Linear(in_features=16, out_features=8, bias=False)\n",
            ")]\n",
            "Embedding dimension: 8\n",
            "Positional Encoding: None\n",
            "Vocabulary size: 16\n",
            "Context length: 256\n",
            "BaseNet with 2 layers, with [MambaBlock(\n",
            "  (in_proj): Linear(in_features=8, out_features=32, bias=False)\n",
            "  (conv1d): Conv1d(16, 16, kernel_size=(4,), stride=(1,), padding=(3,), groups=16)\n",
            "  (x_proj): Linear(in_features=16, out_features=33, bias=False)\n",
            "  (dt_proj): Linear(in_features=1, out_features=16, bias=True)\n",
            "  (out_proj): Linear(in_features=16, out_features=8, bias=False)\n",
            "), Block(\n",
            "  (c_attn): Linear(in_features=8, out_features=24, bias=True)\n",
            ")]\n",
            "Embedding dimension: 8\n",
            "Positional Encoding: None\n",
            "Vocabulary size: 16\n",
            "Context length: 256\n",
            "BaseNet with 3 layers, with [MambaBlock(\n",
            "  (in_proj): Linear(in_features=8, out_features=32, bias=False)\n",
            "  (conv1d): Conv1d(16, 16, kernel_size=(4,), stride=(1,), padding=(3,), groups=16)\n",
            "  (x_proj): Linear(in_features=16, out_features=33, bias=False)\n",
            "  (dt_proj): Linear(in_features=1, out_features=16, bias=True)\n",
            "  (out_proj): Linear(in_features=16, out_features=8, bias=False)\n",
            "), Block(\n",
            "  (c_attn): Linear(in_features=8, out_features=24, bias=True)\n",
            "), MambaBlock(\n",
            "  (in_proj): Linear(in_features=8, out_features=32, bias=False)\n",
            "  (conv1d): Conv1d(16, 16, kernel_size=(4,), stride=(1,), padding=(3,), groups=16)\n",
            "  (x_proj): Linear(in_features=16, out_features=33, bias=False)\n",
            "  (dt_proj): Linear(in_features=1, out_features=16, bias=True)\n",
            "  (out_proj): Linear(in_features=16, out_features=8, bias=False)\n",
            ")]\n",
            "Embedding dimension: 8\n",
            "Positional Encoding: None\n",
            "Vocabulary size: 16\n",
            "Context length: 256\n"
          ]
        }
      ]
    },
    {
      "cell_type": "code",
      "source": [
        "for model_name, model in models_dict.items():\n",
        "    print(f\"model name: {model_name}\")\n",
        "    ##### model training #####\n",
        "    # model initialization\n",
        "    model.train()\n",
        "    criterion = nn.CrossEntropyLoss()\n",
        "    optimizer = torch.optim.Adam(model.parameters(), lr=0.0001)\n",
        "    # model loading\n",
        "    OUT_DIR = 'model_savings/' + model_name\n",
        "    if not os.path.exists(OUT_DIR):\n",
        "        os.makedirs(OUT_DIR)\n",
        "    train_loss = []\n",
        "    starting_step = 0\n",
        "    test_loss = []\n",
        "    state_path = os.path.join(OUT_DIR, \"state.pt\")\n",
        "    if os.path.exists(state_path):\n",
        "        state = torch.load(state_path)\n",
        "        model.load_state_dict(state[\"model_state_dict\"])\n",
        "        optimizer.load_state_dict(state[\"optimizer_state_dict\"])\n",
        "        starting_step = state[\"train_step\"]\n",
        "        train_loss = state[\"train_loss\"]\n",
        "        test_loss = state[\"test_loss\"]\n",
        "    # epochs\n",
        "    for epoch in tqdm(range(starting_step+1, num_epochs)):\n",
        "        epoch_total_train_loss = 0\n",
        "        for x, y in train_loader:\n",
        "            x, y = x.to(device), y.to(device)\n",
        "            optimizer.zero_grad()\n",
        "            y_pred = model(x)[:,-1]\n",
        "            loss = criterion(y_pred, y)\n",
        "            loss.backward()\n",
        "            optimizer.step()\n",
        "            epoch_total_train_loss += loss.item()\n",
        "        epoch_train_loss = epoch_total_train_loss/len(train_loader)\n",
        "        train_loss.append(epoch_train_loss)\n",
        "        # print(f\"epoch {epoch} loss: {epoch_train_loss}\")\n",
        "        ##### model testing after each epoch #####\n",
        "        model.eval()\n",
        "        correct = 0\n",
        "        total = 0\n",
        "        epoch_total_test_loss = 0\n",
        "        with torch.no_grad():\n",
        "            for x, y in test_loader:\n",
        "                x, y = x.to(device), y.to(device)\n",
        "                y_pred = model(x)[:,-1]\n",
        "                loss = criterion(y_pred, y)\n",
        "                epoch_total_test_loss += loss.item()\n",
        "                y_pred = F.softmax(y_pred, dim=-1)\n",
        "                y_pred = torch.argmax(y_pred, dim=-1)\n",
        "                correct += (y_pred == y).sum().item()\n",
        "                total += y.size(0)\n",
        "        epoch_test_loss = epoch_total_test_loss/len(test_loader)\n",
        "        test_loss.append(epoch_test_loss)\n",
        "        # print(f\"Test accuracy: {correct/total}\")\n",
        "        # print(f\"Test loss: {epoch_test_loss}\")\n",
        "        # save model states in each epoch\n",
        "        training_state = {\n",
        "            \"model_state_dict\": model.state_dict(),\n",
        "            \"optimizer_state_dict\": optimizer.state_dict(),\n",
        "            \"train_step\": epoch,\n",
        "            \"train_loss\": train_loss,\n",
        "            \"test_loss\": test_loss,\n",
        "        }\n",
        "        torch.save(training_state, state_path)\n",
        "        #early stop\n",
        "        # if epoch > 30:\n",
        "        #     last_5_losses = test_loss[epoch-1-stop_consecutive_steps:epoch-1] # including this epoch\n",
        "        #     if max(last_5_losses) - min(last_5_losses) < stop_improvement_gap:\n",
        "        #         print(f'Stop early at epoch {epoch}')\n",
        "        #         break;\n"
      ],
      "metadata": {
        "colab": {
          "base_uri": "https://localhost:8080/"
        },
        "id": "w5jdghSJeGRn",
        "outputId": "b042ab35-6b86-481e-bd77-aa2f9b1c8eab"
      },
      "execution_count": 12,
      "outputs": [
        {
          "output_type": "stream",
          "name": "stdout",
          "text": [
            "model name: attention_model\n"
          ]
        },
        {
          "output_type": "stream",
          "name": "stderr",
          "text": [
            "100%|██████████| 249/249 [23:14<00:00,  5.60s/it]\n"
          ]
        },
        {
          "output_type": "stream",
          "name": "stdout",
          "text": [
            "model name: attn_model_no_pe\n"
          ]
        },
        {
          "output_type": "stream",
          "name": "stderr",
          "text": [
            "100%|██████████| 249/249 [22:23<00:00,  5.40s/it]\n"
          ]
        },
        {
          "output_type": "stream",
          "name": "stdout",
          "text": [
            "model name: attn_model_ro_pe\n"
          ]
        },
        {
          "output_type": "stream",
          "name": "stderr",
          "text": [
            "100%|██████████| 249/249 [24:08<00:00,  5.82s/it]\n"
          ]
        }
      ]
    },
    {
      "cell_type": "markdown",
      "source": [
        "# Plot"
      ],
      "metadata": {
        "id": "dHx1-zC4ZERI"
      }
    },
    {
      "cell_type": "code",
      "source": [
        "import matplotlib.pyplot as plt"
      ],
      "metadata": {
        "id": "hqj1AqCTEx1l"
      },
      "execution_count": 19,
      "outputs": []
    },
    {
      "cell_type": "code",
      "source": [
        "# generate test dataset\n",
        "num_examples_test2 = 20000\n",
        "n_ctx_test2 = 16\n",
        "\n",
        "dataset_test2 = InductionAR(num_examples_test2, tokenizer, 1, n_ctx=n_ctx_test2, seed=seed, train_split=0.01, delay=delay)\n",
        "# train_loader = DataLoader(dataset_test2.train, batch_size=batch_size, shuffle=True)\n",
        "test_loader2 = DataLoader(dataset_test2.test, batch_size=batch_size, shuffle=True)\n",
        "\n",
        "num_examples_test1 = 20000\n",
        "n_ctx_test1 = 32\n",
        "\n",
        "dataset_test1 = InductionAR(num_examples_test1, tokenizer, 1, n_ctx=n_ctx_test1, seed=seed, train_split=0.01, delay=delay)\n",
        "# train_loader = DataLoader(dataset_test1.train, batch_size=batch_size, shuffle=True)\n",
        "test_loader1 = DataLoader(dataset_test1.test, batch_size=batch_size, shuffle=True)\n",
        "\n",
        "num_examples_test64 = 20000\n",
        "n_ctx_test64 = 64\n",
        "\n",
        "dataset_test64 = InductionAR(num_examples_test64, tokenizer, 1, n_ctx=n_ctx_test64, seed=seed, train_split=0.01, delay=delay)\n",
        "# train_loader = DataLoader(dataset_test64.train, batch_size=batch_size, shuffle=True)\n",
        "test_loader64 = DataLoader(dataset_test64.test, batch_size=batch_size, shuffle=True)\n",
        "\n",
        "num_examples_test3 = 20000\n",
        "n_ctx_test3 = 128\n",
        "\n",
        "dataset_test3 = InductionAR(num_examples_test3, tokenizer, 1, n_ctx=n_ctx_test3, seed=seed, train_split=0.01, delay=delay)\n",
        "# train_loader = DataLoader(dataset_test3.train, batch_size=batch_size, shuffle=True)\n",
        "test_loader3 = DataLoader(dataset_test3.test, batch_size=batch_size, shuffle=True)\n",
        "\n",
        "num_examples_test4 = 20000\n",
        "n_ctx_test4 = 256\n",
        "\n",
        "dataset_test4 = InductionAR(num_examples_test4, tokenizer, 1, n_ctx=n_ctx_test4, seed=seed, train_split=0.01, delay=delay)\n",
        "# train_loader = DataLoader(dataset_test4.train, batch_size=batch_size, shuffle=True)\n",
        "test_loader4 = DataLoader(dataset_test4.test, batch_size=batch_size, shuffle=True)\n",
        "\n"
      ],
      "metadata": {
        "colab": {
          "base_uri": "https://localhost:8080/"
        },
        "id": "JPnlU3cDZFee",
        "outputId": "fc2e0713-a433-4e22-b139-3d3483b62266"
      },
      "execution_count": 20,
      "outputs": [
        {
          "output_type": "stream",
          "name": "stdout",
          "text": [
            "Generating example 0\n",
            "Generating example 10000\n",
            "Generating example 0\n",
            "Generating example 10000\n",
            "Generating example 0\n",
            "Generating example 10000\n",
            "Generating example 0\n",
            "Generating example 10000\n",
            "Generating example 0\n",
            "Generating example 10000\n"
          ]
        }
      ]
    },
    {
      "cell_type": "code",
      "source": [
        "loss_dict = {}"
      ],
      "metadata": {
        "id": "H48aYIVIgyKN"
      },
      "execution_count": 27,
      "outputs": []
    },
    {
      "cell_type": "code",
      "source": [
        "# plotting\n",
        "# atten_state = torch.load('model_savings/attention_model/state.pt')\n",
        "for model_name, model in models_dict.items():\n",
        "    # model loading\n",
        "    OUT_DIR = 'model_savings/' + model_name\n",
        "    if not os.path.exists(OUT_DIR):\n",
        "        os.makedirs(OUT_DIR)\n",
        "    train_loss = []\n",
        "    starting_step = 0\n",
        "    test_loss = []\n",
        "    state_path = os.path.join(OUT_DIR, \"state.pt\")\n",
        "    if os.path.exists(state_path):\n",
        "        state = torch.load(state_path)\n",
        "        model.load_state_dict(state[\"model_state_dict\"])\n",
        "        starting_step = state[\"train_step\"]\n",
        "        train_loss = state[\"train_loss\"]\n",
        "        test_loss = state[\"test_loss\"]\n",
        "\n",
        "    model.eval()\n",
        "    loss_dict[model_name] = []\n",
        "\n",
        "    # 16\n",
        "    correct = 0\n",
        "    total = 0\n",
        "    with torch.no_grad():\n",
        "        for x, y in test_loader2:\n",
        "            x,y = x.to(device), y.to(device)\n",
        "            y_pred = model(x)[:,-1]\n",
        "            y_pred = F.softmax(y_pred, dim=-1)\n",
        "            y_pred = torch.argmax(y_pred, dim=-1)\n",
        "            correct += (y_pred == y).sum().item()\n",
        "            total += y.size(0)\n",
        "        print(f\"Test accuracy: {correct/total}\")\n",
        "        loss_dict[model_name].append(correct/total)\n",
        "\n",
        "    # 32\n",
        "    correct = 0\n",
        "    total = 0\n",
        "    with torch.no_grad():\n",
        "        for x, y in test_loader1:\n",
        "            x,y = x.to(device), y.to(device)\n",
        "            y_pred = model(x)[:,-1]\n",
        "            y_pred = F.softmax(y_pred, dim=-1)\n",
        "            y_pred = torch.argmax(y_pred, dim=-1)\n",
        "            correct += (y_pred == y).sum().item()\n",
        "            total += y.size(0)\n",
        "        print(f\"Test accuracy: {correct/total}\")\n",
        "        loss_dict[model_name].append(correct/total)\n",
        "\n",
        "    # 64\n",
        "    correct = 0\n",
        "    total = 0\n",
        "    with torch.no_grad():\n",
        "        for x, y in test_loader64:\n",
        "            x,y = x.to(device), y.to(device)\n",
        "            y_pred = model(x)[:,-1]\n",
        "            y_pred = F.softmax(y_pred, dim=-1)\n",
        "            y_pred = torch.argmax(y_pred, dim=-1)\n",
        "            correct += (y_pred == y).sum().item()\n",
        "            total += y.size(0)\n",
        "        print(f\"Test accuracy: {correct/total}\")\n",
        "        loss_dict[model_name].append(correct/total)\n",
        "\n",
        "    # 128\n",
        "    correct = 0\n",
        "    total = 0\n",
        "    with torch.no_grad():\n",
        "        for x, y in test_loader3:\n",
        "            x,y = x.to(device), y.to(device)\n",
        "            y_pred = model(x)[:,-1]\n",
        "            y_pred = F.softmax(y_pred, dim=-1)\n",
        "            y_pred = torch.argmax(y_pred, dim=-1)\n",
        "            correct += (y_pred == y).sum().item()\n",
        "            total += y.size(0)\n",
        "        print(f\"Test accuracy: {correct/total}\")\n",
        "        loss_dict[model_name].append(correct/total)\n",
        "\n",
        "    # 256\n",
        "    correct = 0\n",
        "    total = 0\n",
        "    with torch.no_grad():\n",
        "        for x, y in test_loader4:\n",
        "            x,y = x.to(device), y.to(device)\n",
        "            y_pred = model(x)[:,-1]\n",
        "            y_pred = F.softmax(y_pred, dim=-1)\n",
        "            y_pred = torch.argmax(y_pred, dim=-1)\n",
        "            correct += (y_pred == y).sum().item()\n",
        "            total += y.size(0)\n",
        "        print(f\"Test accuracy: {correct/total}\")\n",
        "        loss_dict[model_name].append(correct/total)"
      ],
      "metadata": {
        "colab": {
          "base_uri": "https://localhost:8080/"
        },
        "id": "IXoW3LGggsqV",
        "outputId": "e2a4dd4f-2578-4f77-8dd5-3b9a4464db90"
      },
      "execution_count": 28,
      "outputs": [
        {
          "output_type": "stream",
          "name": "stdout",
          "text": [
            "Test accuracy: 0.7680303030303031\n",
            "Test accuracy: 0.8834848484848485\n",
            "Test accuracy: 0.88510101010101\n",
            "Test accuracy: 0.2717171717171717\n",
            "Test accuracy: 0.08833333333333333\n",
            "Test accuracy: 0.1548989898989899\n",
            "Test accuracy: 0.16080808080808082\n",
            "Test accuracy: 0.1619191919191919\n",
            "Test accuracy: 0.13712121212121212\n",
            "Test accuracy: 0.10631313131313132\n",
            "Test accuracy: 0.7336363636363636\n",
            "Test accuracy: 0.7346969696969697\n",
            "Test accuracy: 0.7268181818181818\n",
            "Test accuracy: 0.7160606060606061\n",
            "Test accuracy: 0.39095959595959595\n",
            "Test accuracy: 0.8667676767676767\n",
            "Test accuracy: 1.0\n",
            "Test accuracy: 1.0\n",
            "Test accuracy: 1.0\n",
            "Test accuracy: 1.0\n",
            "Test accuracy: 1.0\n",
            "Test accuracy: 1.0\n",
            "Test accuracy: 1.0\n",
            "Test accuracy: 1.0\n",
            "Test accuracy: 1.0\n",
            "Test accuracy: 0.9646464646464646\n",
            "Test accuracy: 0.9993939393939394\n",
            "Test accuracy: 1.0\n",
            "Test accuracy: 0.9994444444444445\n",
            "Test accuracy: 0.8701515151515151\n"
          ]
        }
      ]
    },
    {
      "cell_type": "code",
      "source": [
        "for model_name, model in models_dict.items():\n",
        "    plt.plot([16, 32, 64, 128, 256], loss_dict[model_name], linewidth=3, marker='d', markersize=10, label=model_name)\n",
        "plt.legend()\n",
        "plt.title('Loss with Length')"
      ],
      "metadata": {
        "colab": {
          "base_uri": "https://localhost:8080/",
          "height": 470
        },
        "id": "ousb27DPEary",
        "outputId": "f61fc698-8a86-41ec-b432-c09d5affc353"
      },
      "execution_count": 29,
      "outputs": [
        {
          "output_type": "execute_result",
          "data": {
            "text/plain": [
              "Text(0.5, 1.0, 'Loss with Length')"
            ]
          },
          "metadata": {},
          "execution_count": 29
        },
        {
          "output_type": "display_data",
          "data": {
            "text/plain": [
              "<Figure size 640x480 with 1 Axes>"
            ],
            "image/png": "[encoded data removed]"
          },
          "metadata": {}
        }
      ]
    },
    {
      "cell_type": "code",
      "source": [
        "for model_name, model in models_dict.items():\n",
        "    state = torch.load('model_savings/' + model_name + '/state.pt', map_location=torch.device('cpu'))\n",
        "    plt.plot(state['test_loss'], label = model_name)\n",
        "plt.legend()\n",
        "plt.title('Loss with epoch num')"
      ],
      "metadata": {
        "colab": {
          "base_uri": "https://localhost:8080/",
          "height": 470
        },
        "id": "mQkFpwMdhsT5",
        "outputId": "dfa36955-e73e-4624-d382-5e8852298dfd"
      },
      "execution_count": 30,
      "outputs": [
        {
          "output_type": "execute_result",
          "data": {
            "text/plain": [
              "Text(0.5, 1.0, 'Loss with epoch num')"
            ]
          },
          "metadata": {},
          "execution_count": 30
        },
        {
          "output_type": "display_data",
          "data": {
            "text/plain": [
              "<Figure size 640x480 with 1 Axes>"
            ],
            "image/png": "[encoded data removed]"
          },
          "metadata": {}
        }
      ]
    }
  ]
}