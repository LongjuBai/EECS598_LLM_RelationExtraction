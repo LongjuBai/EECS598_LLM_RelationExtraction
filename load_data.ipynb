{
 "cells": [
  {
   "cell_type": "code",
   "execution_count": 1,
   "metadata": {},
   "outputs": [],
   "source": [
    "from utils import load_ade, load_conll04, load_nyt"
   ]
  },
  {
   "cell_type": "code",
   "execution_count": 2,
   "metadata": {},
   "outputs": [
    {
     "name": "stdout",
     "output_type": "stream",
     "text": [
      "['Drug', 'Adverse-Effect'] ['Adverse-Effect']\n"
     ]
    },
    {
     "data": {
      "text/plain": [
       "({'text': 'We report a case of fulminant hepatic failure associated with didanosine and masquerading as a surgical abdomen and compare the clinical , biologic , histologic , and ultrastructural findings with reports described previously .',\n",
       "  'relations': [['fulminant hepatic failure', 'didanosine']],\n",
       "  'id': 412},\n",
       " {'text': 'We conclude that ( a ) cyclophosphamide is a human teratogen , ( b ) a distinct phenotype exists , and ( c ) the safety of CP in pregnancy is in serious question .',\n",
       "  'relations': [['human teratogen', 'cyclophosphamide']],\n",
       "  'id': 83},\n",
       " [])"
      ]
     },
     "execution_count": 2,
     "metadata": {},
     "output_type": "execute_result"
    }
   ],
   "source": [
    "data = load_ade(split=0)\n",
    "print(data['entities'], data['relations'])\n",
    "data['train'][0], data['test'][0], data['val']"
   ]
  },
  {
   "cell_type": "code",
   "execution_count": 3,
   "metadata": {},
   "outputs": [
    {
     "name": "stdout",
     "output_type": "stream",
     "text": [
      "['Loc', 'Org', 'Per', 'Other'] ['Work For', 'Kill', 'OrgBased In', 'Live In', 'Located In']\n"
     ]
    },
    {
     "data": {
      "text/plain": [
       "({'text': \"Newspaper ` Explains ' U.S. Interests Section Events FL1402001894 Havana Radio Reloj Network in Spanish 2100 GMT 13 Feb 94\",\n",
       "  'relations': [['Radio Reloj Network:Org', 'OrgBased In', 'Havana:Loc']],\n",
       "  'id': 3255},\n",
       " {'text': 'An art exhibit at the Hakawati Theatre in Arab east Jerusalem was a series of portraits of Palestinians killed in the rebellion .',\n",
       "  'relations': [['Hakawati Theatre:Org', 'OrgBased In', 'Jerusalem:Loc']],\n",
       "  'id': 17},\n",
       " {'text': 'John Wilkes Booth , who assassinated President Lincoln , was an actor .',\n",
       "  'relations': [['John Wilkes Booth:Per', 'Kill', 'President Lincoln:Per']],\n",
       "  'id': 5178})"
      ]
     },
     "execution_count": 3,
     "metadata": {},
     "output_type": "execute_result"
    }
   ],
   "source": [
    "data = load_conll04()\n",
    "print(data['entities'], data['relations'])\n",
    "data['train'][0], data['test'][0], data['val'][0]"
   ]
  },
  {
   "cell_type": "code",
   "execution_count": 4,
   "metadata": {},
   "outputs": [
    {
     "name": "stdout",
     "output_type": "stream",
     "text": [
      "['Loc', 'Org', 'Per'] 24 ['/business/company/founders', '/people/person/place_of_birth', '/people/deceased_person/place_of_death', '/business/company_shareholder/major_shareholder_of', '/people/ethnicity/people', '/location/neighborhood/neighborhood_of', '/sports/sports_team/location', '/business/company/industry', '/business/company/place_founded', '/location/administrative_division/country', '/sports/sports_team_location/teams', '/people/person/nationality', '/people/person/religion', '/business/company/advisors', '/people/person/ethnicity', '/people/ethnicity/geographic_distribution', '/business/person/company', '/business/company/major_shareholders', '/people/person/place_lived', '/people/person/profession', '/location/country/capital', '/location/location/contains', '/location/country/administrative_divisions', '/people/person/children']\n"
     ]
    },
    {
     "data": {
      "text/plain": [
       "({'text': 'Massachusetts ASTON MAGNA Great Barrington ; also at Bard College , Annandale-on-Hudson , N.Y. , July 1-Aug .',\n",
       "  'relations': [['Annandale-on-Hudson:Loc',\n",
       "    '/location/location/contains',\n",
       "    'Bard College:Org']],\n",
       "  'id': 0},\n",
       " {'text': 'But that spasm of irritation by a master intimidator was minor compared with what Bobby Fischer , the erratic former world chess champion , dished out in March at a news conference in Reykjavik , Iceland .',\n",
       "  'relations': [['Bobby Fischer:Per',\n",
       "    '/people/person/nationality',\n",
       "    'Iceland:Loc'],\n",
       "   ['Iceland:Loc', '/location/country/capital', 'Reykjavik:Loc'],\n",
       "   ['Iceland:Loc', '/location/location/contains', 'Reykjavik:Loc'],\n",
       "   ['Bobby Fischer:Per',\n",
       "    '/people/deceased_person/place_of_death',\n",
       "    'Reykjavik:Loc']],\n",
       "  'id': 0},\n",
       " {'text': 'In Queens , North Shore Towers , near the Nassau border , supplanted a golf course , and housing replaced a gravel quarry in Douglaston .',\n",
       "  'relations': [['Douglaston:Loc',\n",
       "    '/location/neighborhood/neighborhood_of',\n",
       "    'Queens:Loc'],\n",
       "   ['Queens:Loc', '/location/location/contains', 'Douglaston:Loc']],\n",
       "  'id': 0})"
      ]
     },
     "execution_count": 4,
     "metadata": {},
     "output_type": "execute_result"
    }
   ],
   "source": [
    "data = load_nyt()\n",
    "print(data['entities'], len(data['relations']), data['relations'])\n",
    "data['train'][0], data['test'][0], data['val'][0]"
   ]
  }
 ],
 "metadata": {
  "kernelspec": {
   "display_name": "glkb",
   "language": "python",
   "name": "python3"
  },
  "language_info": {
   "codemirror_mode": {
    "name": "ipython",
    "version": 3
   },
   "file_extension": ".py",
   "mimetype": "text/x-python",
   "name": "python",
   "nbconvert_exporter": "python",
   "pygments_lexer": "ipython3",
   "version": "3.10.13"
  }
 },
 "nbformat": 4,
 "nbformat_minor": 2
}
