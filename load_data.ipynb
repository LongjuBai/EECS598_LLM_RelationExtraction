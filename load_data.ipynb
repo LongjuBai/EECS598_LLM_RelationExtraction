{
 "cells": [
  {
   "cell_type": "code",
   "execution_count": 1,
   "metadata": {},
   "outputs": [],
   "source": [
    "from utils import load_ade, load_conll04, load_nyt"
   ]
  },
  {
   "cell_type": "code",
   "execution_count": 11,
   "metadata": {},
   "outputs": [
    {
     "name": "stdout",
     "output_type": "stream",
     "text": [
      "['Drug', 'Adverse-Effect'] ['Adverse-Effect']\n",
      "3845 427 0\n",
      "412 {'text': 'We report a case of fulminant hepatic failure associated with didanosine and masquerading as a surgical abdomen and compare the clinical , biologic , histologic , and ultrastructural findings with reports described previously .', 'relations': [['fulminant hepatic failure', 'didanosine']]}\n"
     ]
    }
   ],
   "source": [
    "data = load_ade(split=0)\n",
    "print(data['entities'], data['relations'])\n",
    "print(len(data['train']), len(data['test']), len(data['val']))\n",
    "print(list(data['train'].keys())[0], list(data['train'].values())[0])"
   ]
  },
  {
   "cell_type": "code",
   "execution_count": 12,
   "metadata": {},
   "outputs": [
    {
     "name": "stdout",
     "output_type": "stream",
     "text": [
      "['Loc', 'Org', 'Per', 'Other'] ['Work For', 'Kill', 'OrgBased In', 'Live In', 'Located In']\n",
      "922 288 231\n",
      "3255 {'text': \"Newspaper ` Explains ' U.S. Interests Section Events FL1402001894 Havana Radio Reloj Network in Spanish 2100 GMT 13 Feb 94\", 'relations': [['Radio Reloj Network:Org', 'OrgBased In', 'Havana:Loc']]}\n"
     ]
    }
   ],
   "source": [
    "data = load_conll04()\n",
    "print(data['entities'], data['relations'])\n",
    "print(len(data['train']), len(data['test']), len(data['val']))\n",
    "print(list(data['train'].keys())[0], list(data['train'].values())[0])"
   ]
  },
  {
   "cell_type": "code",
   "execution_count": 13,
   "metadata": {},
   "outputs": [
    {
     "name": "stdout",
     "output_type": "stream",
     "text": [
      "['Loc', 'Org', 'Per'] 24 ['/business/company/founders', '/people/person/place_of_birth', '/people/deceased_person/place_of_death', '/business/company_shareholder/major_shareholder_of', '/people/ethnicity/people', '/location/neighborhood/neighborhood_of', '/sports/sports_team/location', '/business/company/industry', '/business/company/place_founded', '/location/administrative_division/country', '/sports/sports_team_location/teams', '/people/person/nationality', '/people/person/religion', '/business/company/advisors', '/people/person/ethnicity', '/people/ethnicity/geographic_distribution', '/business/person/company', '/business/company/major_shareholders', '/people/person/place_lived', '/people/person/profession', '/location/country/capital', '/location/location/contains', '/location/country/administrative_divisions', '/people/person/children']\n",
      "56196 5000 5000\n",
      "0 {'text': 'Massachusetts ASTON MAGNA Great Barrington ; also at Bard College , Annandale-on-Hudson , N.Y. , July 1-Aug .', 'relations': [['Annandale-on-Hudson:Loc', '/location/location/contains', 'Bard College:Org']]}\n"
     ]
    }
   ],
   "source": [
    "data = load_nyt()\n",
    "print(data['entities'], len(data['relations']), data['relations'])\n",
    "print(len(data['train']), len(data['test']), len(data['val']))\n",
    "print(list(data['train'].keys())[0], list(data['train'].values())[0])"
   ]
  }
 ],
 "metadata": {
  "kernelspec": {
   "display_name": "glkb",
   "language": "python",
   "name": "python3"
  },
  "language_info": {
   "codemirror_mode": {
    "name": "ipython",
    "version": 3
   },
   "file_extension": ".py",
   "mimetype": "text/x-python",
   "name": "python",
   "nbconvert_exporter": "python",
   "pygments_lexer": "ipython3",
   "version": "3.10.13"
  }
 },
 "nbformat": 4,
 "nbformat_minor": 2
}
